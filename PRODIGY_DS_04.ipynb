{
  "nbformat": 4,
  "nbformat_minor": 0,
  "metadata": {
    "colab": {
      "provenance": [],
      "toc_visible": true
    },
    "kernelspec": {
      "name": "python3",
      "display_name": "Python 3"
    },
    "language_info": {
      "name": "python"
    }
  },
  "cells": [
    {
      "cell_type": "code",
      "execution_count": 7,
      "metadata": {
        "colab": {
          "base_uri": "https://localhost:8080/"
        },
        "id": "B0HZiCvVUgXi",
        "outputId": "6f59a73b-c44b-4936-961c-5f0c5eac9665"
      },
      "outputs": [
        {
          "output_type": "stream",
          "name": "stdout",
          "text": [
            "        2401  Borderlands  Positive  \\\n",
            "0       2401  Borderlands  Positive   \n",
            "1       2401  Borderlands  Positive   \n",
            "2       2401  Borderlands  Positive   \n",
            "3       2401  Borderlands  Positive   \n",
            "4       2401  Borderlands  Positive   \n",
            "...      ...          ...       ...   \n",
            "46289  11944      Verizon   Neutral   \n",
            "46290  11944      Verizon   Neutral   \n",
            "46291  11944      Verizon   Neutral   \n",
            "46292  11944      Verizon   Neutral   \n",
            "46293  11944      Verizon   Neutral   \n",
            "\n",
            "      im getting on borderlands and i will murder you all ,  \n",
            "0      I am coming to the borders and I will kill you...     \n",
            "1      im getting on borderlands and i will kill you ...     \n",
            "2      im coming on borderlands and i will murder you...     \n",
            "3      im getting on borderlands 2 and i will murder ...     \n",
            "4      im getting into borderlands and i can murder y...     \n",
            "...                                                  ...     \n",
            "46289  The last 3 August’s I have broken my phone. Th...     \n",
            "46290  The last 3 August's I've broken my phone. This...     \n",
            "46291  The last time I broke my phone was on August 3...     \n",
            "46292  The last 3 August’s I have broken my phone. Th...     \n",
            "46293                                          7 The las     \n",
            "\n",
            "[46294 rows x 4 columns]\n",
            "<class 'pandas.core.frame.DataFrame'>\n",
            "RangeIndex: 46294 entries, 0 to 46293\n",
            "Data columns (total 4 columns):\n",
            " #   Column                                                 Non-Null Count  Dtype \n",
            "---  ------                                                 --------------  ----- \n",
            " 0   2401                                                   46294 non-null  int64 \n",
            " 1   Borderlands                                            46294 non-null  object\n",
            " 2   Positive                                               46294 non-null  object\n",
            " 3   im getting on borderlands and i will murder you all ,  45849 non-null  object\n",
            "dtypes: int64(1), object(3)\n",
            "memory usage: 1.4+ MB\n",
            "None\n"
          ]
        }
      ],
      "source": [
        "import numpy as np\n",
        "import pandas as pd\n",
        "import matplotlib.pyplot as plt\n",
        "import seaborn as sns\n",
        "\n",
        "\n",
        "# Load the dataset\n",
        "data = pd.read_csv(\"/content/datasets/twitter_training.csv\")\n",
        "print(data)\n",
        "print(data.info())"
      ]
    },
    {
      "cell_type": "code",
      "source": [
        "#By using TextBlob python library\n",
        "from textblob import TextBlob\n",
        "\n",
        "#function to perform sentiment analysis\n",
        "def get_sentiment(text):\n",
        "  analysis = TextBlob(str(text))\n",
        "  return analysis.sentiment.polarity\n",
        "\n",
        "\n",
        "#Apply sentiment analysis\n",
        "data['sentiment'] = data['Borderlands'].apply(get_sentiment)"
      ],
      "metadata": {
        "id": "kWWDiCa8UrXn"
      },
      "execution_count": 8,
      "outputs": []
    },
    {
      "cell_type": "code",
      "source": [
        "from sqlalchemy.sql.selectable import TypedReturnsRows\n",
        "# Example import for SQLAlchemy 1.3\n",
        "from sqlalchemy.sql.selectable import Select\n",
        "\n",
        "#1.Histogram\n",
        "plt.figure(figsize=(8, 6))\n",
        "sns.histplot(data['sentiment'], bins=30, kde=True)\n",
        "plt.title('Sentiment Distribution')\n",
        "plt.xlabel('2401')\n",
        "plt.ylabel('Positive')\n",
        "plt.show()"
      ],
      "metadata": {
        "colab": {
          "base_uri": "https://localhost:8080/",
          "height": 564
        },
        "id": "uzSEVa5CW-2g",
        "outputId": "3ad4666f-d374-44ee-e549-ec230552d33e"
      },
      "execution_count": 9,
      "outputs": [
        {
          "output_type": "display_data",
          "data": {
            "text/plain": [
              "<Figure size 800x600 with 1 Axes>"
            ],
            "image/png": "[encoded data removed]"
          },
          "metadata": {}
        }
      ]
    }
  ]
}